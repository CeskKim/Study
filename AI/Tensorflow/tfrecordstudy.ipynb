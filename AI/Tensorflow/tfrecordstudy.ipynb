{
  "nbformat": 4,
  "nbformat_minor": 0,
  "metadata": {
    "colab": {
      "name": "tfrecordstudy.ipynb",
      "provenance": [],
      "private_outputs": true,
      "collapsed_sections": []
    },
    "kernelspec": {
      "name": "python3",
      "display_name": "Python 3"
    }
  },
  "cells": [
    {
      "cell_type": "code",
      "metadata": {
        "id": "ojaTYyalLMoU",
        "colab_type": "code",
        "colab": {}
      },
      "source": [
        "import tensorflow as tf\n",
        "import numpy as np\n",
        "import IPython.display as display"
      ],
      "execution_count": null,
      "outputs": []
    },
    {
      "cell_type": "code",
      "metadata": {
        "id": "3qyRbFeyLapR",
        "colab_type": "code",
        "colab": {}
      },
      "source": [
        "def _bytes_feature(value):\n",
        "    if isinstance(value, type(tf.constant(0))):\n",
        "        value = value.numpy()\n",
        "    return tf.train.Feature(bytes_list=tf.train.BytesList(value=[value]))\n",
        "def _float_feature(value):\n",
        "    return tf.train.Feature(float_list=tf.train.FloatList(value=[value]))\n",
        "def _int64_feature(value):\n",
        "    return tf.train.Feature(int64_list=tf.train.Int64List(value=[value]))\n",
        "\n",
        "print(_bytes_feature(b'test_string'))\n",
        "print(_bytes_feature(u'test_bytes'.encode('utf-8')))\n",
        "print(_float_feature(np.exp(1)))\n",
        "print(_int64_feature(True))\n",
        "print(_int64_feature(1))\n",
        "\n",
        "feature = _float_feature(np.exp(1))\n",
        "feature.SerializeToString()"
      ],
      "execution_count": null,
      "outputs": []
    },
    {
      "cell_type": "code",
      "metadata": {
        "id": "VgPA--6qL6bE",
        "colab_type": "code",
        "colab": {}
      },
      "source": [
        "n_observations = int(1e4)\n",
        "feature0 = np.random.choice([False, True], n_observations)\n",
        "feature1 = np.random.randint(0, 5, n_observations)\n",
        "strings = np.array([b'cat', b'dog', b'chicken', b'horse', b'goat'])\n",
        "feature2 = strings[feature1]\n",
        "feature3 = np.random.randn(n_observations)"
      ],
      "execution_count": null,
      "outputs": []
    },
    {
      "cell_type": "code",
      "metadata": {
        "id": "E4XWRGvUMV0c",
        "colab_type": "code",
        "colab": {}
      },
      "source": [
        "def serialize_example(feature0, feature1, feature2, feature3):\n",
        "\n",
        "    feature = {\n",
        "        'feature0': _int64_feature(feature0),\n",
        "        'feature1': _int64_feature(feature1),\n",
        "        'feature2': _bytes_feature(feature2),\n",
        "        'feature3': _float_feature(feature3),\n",
        "    }\n",
        "    example_proto = tf.train.Example(features=tf.train.Features(feature=feature))\n",
        "    return example_proto.SerializeToString()\n",
        "\n",
        "example_observation = []\n",
        "serialized_example = serialize_example(False, 4, b'goat', 0.9876)\n",
        "serialized_example"
      ],
      "execution_count": null,
      "outputs": []
    },
    {
      "cell_type": "code",
      "metadata": {
        "id": "h5seVpaLOCEs",
        "colab_type": "code",
        "colab": {}
      },
      "source": [
        "example_proto = tf.train.Example.FromString(serialized_example)\n",
        "example_proto"
      ],
      "execution_count": null,
      "outputs": []
    },
    {
      "cell_type": "code",
      "metadata": {
        "id": "dcjozCndOO1P",
        "colab_type": "code",
        "colab": {}
      },
      "source": [
        "tf.data.Dataset.from_tensor_slices(feature1)\n",
        "features_dataset = tf.data.Dataset.from_tensor_slices((feature0, feature1, feature2, feature3))\n",
        "features_dataset\n",
        "for f0,f1,f2,f3 in features_dataset.take(1):\n",
        "    print(f0)\n",
        "    print(f1)\n",
        "    print(f2)\n",
        "    print(f3)\n",
        "\n",
        "def tf_serialize_example(f0,f1,f2,f3):\n",
        "    tf_string = tf.py_function(\n",
        "        serialize_example,\n",
        "        (f0,f1,f2,f3),  \n",
        "        tf.string)     \n",
        "    return tf.reshape(tf_string, ())\n",
        "\n",
        "tf_serialize_example(f0,f1,f2,f3)"
      ],
      "execution_count": null,
      "outputs": []
    },
    {
      "cell_type": "code",
      "metadata": {
        "id": "TKu5MI8_PaHY",
        "colab_type": "code",
        "colab": {}
      },
      "source": [
        "serialized_features_dataset = features_dataset.map(tf_serialize_example)\n",
        "serialized_features_dataset\n",
        "\n",
        "def generator():\n",
        "    for features in features_dataset:\n",
        "        yield serialize_example(*features)\n",
        "        "
      ],
      "execution_count": null,
      "outputs": []
    },
    {
      "cell_type": "code",
      "metadata": {
        "id": "NIBbtavJPny9",
        "colab_type": "code",
        "colab": {}
      },
      "source": [
        "serialized_features_dataset = tf.data.Dataset.from_generator( generator, output_types=tf.string, output_shapes=())\n",
        "serialized_features_dataset\n",
        "\n",
        "filename = 'test.tfrecord'\n",
        "writer = tf.data.experimental.TFRecordWriter(filename)\n",
        "writer.write(serialized_features_dataset)"
      ],
      "execution_count": null,
      "outputs": []
    },
    {
      "cell_type": "code",
      "metadata": {
        "id": "H1ybXSsBPwFe",
        "colab_type": "code",
        "colab": {}
      },
      "source": [
        "filenames = [filename]\n",
        "raw_dataset = tf.data.TFRecordDataset(filenames)\n",
        "raw_dataset\n",
        "\n",
        "for raw_record in raw_dataset.take(10):\n",
        "    print(repr(raw_record))"
      ],
      "execution_count": null,
      "outputs": []
    },
    {
      "cell_type": "code",
      "metadata": {
        "id": "rH7EL8J6P-Bq",
        "colab_type": "code",
        "colab": {}
      },
      "source": [
        "feature_description = {    \n",
        "    'feature0': tf.io.FixedLenFeature([], tf.int64, default_value=0),\n",
        "    'feature1': tf.io.FixedLenFeature([], tf.int64, default_value=0),\n",
        "    'feature2': tf.io.FixedLenFeature([], tf.string, default_value=''),\n",
        "    'feature3': tf.io.FixedLenFeature([], tf.float32, default_value=0.0),\n",
        "}\n",
        "def _parse_function(example_proto):\n",
        "  return tf.io.parse_single_example(example_proto, feature_description)\n",
        "parsed_dataset = raw_dataset.map(_parse_function)\n",
        "parsed_dataset "
      ],
      "execution_count": null,
      "outputs": []
    },
    {
      "cell_type": "code",
      "metadata": {
        "id": "rmI36BByQD2r",
        "colab_type": "code",
        "colab": {}
      },
      "source": [
        "for parsed_record in parsed_dataset.take(10):\n",
        "    print(repr(parsed_record))\n",
        "with tf.io.TFRecordWriter(filename) as writer:\n",
        "    for i in range(n_observations):\n",
        "        example = serialize_example(feature0[i], feature1[i], feature2[i], feature3[i])\n",
        "        writer.write(example)"
      ],
      "execution_count": null,
      "outputs": []
    },
    {
      "cell_type": "code",
      "metadata": {
        "id": "oRBuPim1QMIO",
        "colab_type": "code",
        "colab": {}
      },
      "source": [
        "!du -sh {filename}"
      ],
      "execution_count": null,
      "outputs": []
    },
    {
      "cell_type": "code",
      "metadata": {
        "id": "MMEVYzSEQS1F",
        "colab_type": "code",
        "colab": {}
      },
      "source": [
        "filenames = [filename]\n",
        "raw_dataset = tf.data.TFRecordDataset(filenames)\n",
        "raw_dataset\n",
        "for raw_record in raw_dataset.take(1):\n",
        "    example = tf.train.Example()\n",
        "    example.ParseFromString(raw_record.numpy())\n",
        "    print(example)\n"
      ],
      "execution_count": null,
      "outputs": []
    },
    {
      "cell_type": "code",
      "metadata": {
        "id": "2Lb65kIqQicC",
        "colab_type": "code",
        "colab": {}
      },
      "source": [
        "# 이미지 파일 다운\n",
        "cat_in_snow  = tf.keras.utils.get_file('320px-Felis_catus-cat_on_snow.jpg', 'https://storage.googleapis.com/download.tensorflow.org/example_images/320px-Felis_catus-cat_on_snow.jpg')\n",
        "williamsburg_bridge = tf.keras.utils.get_file('194px-New_East_River_Bridge_from_Brooklyn_det.4a09796u.jpg','https://storage.googleapis.com/download.tensorflow.org/example_images/194px-New_East_River_Bridge_from_Brooklyn_det.4a09796u.jpg')"
      ],
      "execution_count": null,
      "outputs": []
    },
    {
      "cell_type": "code",
      "metadata": {
        "id": "vbTinEJ5Qo7i",
        "colab_type": "code",
        "colab": {}
      },
      "source": [
        "# 이미지 파일 표시\n",
        "display.display(display.Image(filename=cat_in_snow))\n",
        "display.display(display.HTML('Image cc-by: <a \"href=https://commons.wikimedia.org/wiki/File:Felis_catus-cat_on_snow.jpg\">Von.grzanka</a>'))\n",
        "display.display(display.Image(filename=williamsburg_bridge))\n",
        "display.display(display.HTML('<a \"href=https://commons.wikimedia.org/wiki/File:New_East_River_Bridge_from_Brooklyn_det.4a09796u.jpg\">From Wikimedia</a>'))"
      ],
      "execution_count": null,
      "outputs": []
    },
    {
      "cell_type": "code",
      "metadata": {
        "id": "e6luPMwEQt2f",
        "colab_type": "code",
        "colab": {}
      },
      "source": [
        "image_labels = {cat_in_snow : 0, williamsburg_bridge : 1}\n",
        "image_string = open(cat_in_snow, 'rb').read()\n",
        "label = image_labels[cat_in_snow]\n",
        "\n",
        "def image_example(image_string, label):\n",
        "    image_shape = tf.image.decode_jpeg(image_string).shape\n",
        "    feature = {\n",
        "        'height': _int64_feature(image_shape[0]),\n",
        "        'width': _int64_feature(image_shape[1]),\n",
        "        'depth': _int64_feature(image_shape[2]),\n",
        "        'label': _int64_feature(label),\n",
        "        'image_raw': _bytes_feature(image_string),\n",
        "    }\n",
        "    return tf.train.Example(features=tf.train.Features(feature=feature))\n",
        "\n",
        "for line in str(image_example(image_string, label)).split('\\n')[:15]:\n",
        "    print(line)\n",
        "print('...')\n",
        "\n",
        "record_file = 'images.tfrecords'\n",
        "with tf.io.TFRecordWriter(record_file) as writer:\n",
        "    for filename, label in image_labels.items():\n",
        "        image_string = open(filename, 'rb').read()\n",
        "        tf_example = image_example(image_string, label)\n",
        "        writer.write(tf_example.SerializeToString())\n"
      ],
      "execution_count": null,
      "outputs": []
    },
    {
      "cell_type": "code",
      "metadata": {
        "id": "9yTHv522RRYC",
        "colab_type": "code",
        "colab": {}
      },
      "source": [
        "!du -sh {record_file}"
      ],
      "execution_count": null,
      "outputs": []
    },
    {
      "cell_type": "code",
      "metadata": {
        "id": "toSVe_Y3RUYg",
        "colab_type": "code",
        "colab": {}
      },
      "source": [
        "raw_image_dataset = tf.data.TFRecordDataset('images.tfrecords')\n",
        "\n",
        "image_feature_description = {\n",
        "    'height': tf.io.FixedLenFeature([], tf.int64),\n",
        "    'width': tf.io.FixedLenFeature([], tf.int64),\n",
        "    'depth': tf.io.FixedLenFeature([], tf.int64),\n",
        "    'label': tf.io.FixedLenFeature([], tf.int64),\n",
        "    'image_raw': tf.io.FixedLenFeature([], tf.string),\n",
        "}\n",
        "\n",
        "def _parse_image_function(example_proto):\n",
        "    return tf.io.parse_single_example(example_proto, image_feature_description)\n",
        "parsed_image_dataset = raw_image_dataset.map(_parse_image_function)\n",
        "parsed_image_dataset\n"
      ],
      "execution_count": null,
      "outputs": []
    },
    {
      "cell_type": "code",
      "metadata": {
        "id": "oGdUmioxRhMU",
        "colab_type": "code",
        "colab": {}
      },
      "source": [
        "for image_features in parsed_image_dataset:\n",
        "  image_raw = image_features['image_raw'].numpy()\n",
        "  display.display(display.Image(data=image_raw))"
      ],
      "execution_count": null,
      "outputs": []
    }
  ]
}