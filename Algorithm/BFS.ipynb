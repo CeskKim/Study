{
 "cells": [
  {
   "cell_type": "code",
   "execution_count": 38,
   "metadata": {},
   "outputs": [
    {
     "name": "stdout",
     "output_type": "stream",
     "text": [
      "A B C D E F 0.000713 초 걸렸습니다.\n"
     ]
    }
   ],
   "source": [
    "#list 사용\n",
    "\n",
    "import timeit\n",
    "start_time = timeit.default_timer() #시작시간\n",
    "graph = {\n",
    "            'A':['B','C'],\n",
    "            'B':['D','E'],\n",
    "            'C':['F'],\n",
    "            'D':[],\n",
    "            'E':['F'],\n",
    "            'F':[]\n",
    "    \n",
    "        }\n",
    "\n",
    "visited = []\n",
    "queue = []\n",
    "\n",
    "def BFS(visited, graph, node):\n",
    "    visited.append(node)\n",
    "    queue.append(node)    \n",
    "    \n",
    "    while queue: \n",
    "        s = queue.pop(0)\n",
    "        print(s, end = \" \")\n",
    "        \n",
    "        for neighbor in graph[s]:\n",
    "            if neighbor not in visited:\n",
    "                visited.append(neighbor)\n",
    "                queue.append(neighbor)\n",
    "\n",
    "BFS(visited,graph,'A')\n",
    "\n",
    "end_time =  timeit.default_timer() #종료시간\n",
    "print('%f 초 걸렸습니다.' %(end_time - start_time))"
   ]
  },
  {
   "cell_type": "code",
   "execution_count": 39,
   "metadata": {},
   "outputs": [
    {
     "name": "stdout",
     "output_type": "stream",
     "text": [
      "A B C D E F 0.000533 초 걸렸습니다.\n"
     ]
    }
   ],
   "source": [
    "#dequeue 사용\n",
    "from collections import deque\n",
    "import timeit\n",
    "start_time = timeit.default_timer() #시작시간\n",
    "graphs = {\n",
    "            'A':['B','C'],\n",
    "            'B':['D','E'],\n",
    "            'C':['F'],\n",
    "            'D':[],\n",
    "            'E':['F'],\n",
    "            'F':[]\n",
    "    \n",
    "        }\n",
    "\n",
    "visited = []\n",
    "\n",
    "\n",
    "def BFS(visited, graph, node):\n",
    "    visited.append(node)\n",
    "    queue = deque([node])    \n",
    "    while queue:\n",
    "        s = queue.popleft()\n",
    "        print(s, end = \" \")               \n",
    "        for neighbor in graph[s]:           \n",
    "            if neighbor not in visited:\n",
    "                visited.append(neighbor)               \n",
    "                queue.append(neighbor)\n",
    "\n",
    "BFS(visited,graph,'A')\n",
    "\n",
    "end_time =  timeit.default_timer() #종료시간\n",
    "print('%f 초 걸렸습니다.' %(end_time - start_time))"
   ]
  },
  {
   "cell_type": "code",
   "execution_count": null,
   "metadata": {},
   "outputs": [],
   "source": []
  }
 ],
 "metadata": {
  "kernelspec": {
   "display_name": "Python 3",
   "language": "python",
   "name": "python3"
  },
  "language_info": {
   "codemirror_mode": {
    "name": "ipython",
    "version": 3
   },
   "file_extension": ".py",
   "mimetype": "text/x-python",
   "name": "python",
   "nbconvert_exporter": "python",
   "pygments_lexer": "ipython3",
   "version": "3.6.4"
  }
 },
 "nbformat": 4,
 "nbformat_minor": 2
}
