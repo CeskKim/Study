{
 "cells": [
  {
   "cell_type": "code",
   "execution_count": 1,
   "metadata": {},
   "outputs": [
    {
     "data": {
      "text/plain": [
       "[1, 3, 5, 6, 7]"
      ]
     },
     "execution_count": 1,
     "metadata": {},
     "output_type": "execute_result"
    }
   ],
   "source": [
    "# BubbleSort\n",
    "# 원리 : [3,1,4,5,6] -> 왼쪽을 기준으로 2개씩 비교 -> [3,1] -> [1,4]\n",
    "# Time Complexity -> O(n * n) -> nSquared 또는 O(N)-> 이중 for문 구현 -> 전체길이 비례 구현(Outer) -> 앞,뒤2개비교(Inner)\n",
    "def BubbleSort(li):\n",
    "    for i in range(len(li)-1):         \n",
    "        for j in range(len(li)-i-1):     \n",
    "            if li[j] > li[j+1]:\n",
    "                li[j], li[j+1] = li[j+1], li[j]\n",
    "                swap = True\n",
    "            if swap == False:\n",
    "                break\n",
    "    return li\n",
    "li = [3,1,5,7,6]\n",
    "Bs = BubbleSort(li)\n",
    "Bs"
   ]
  }
 ],
 "metadata": {
  "kernelspec": {
   "display_name": "Python 3",
   "language": "python",
   "name": "python3"
  },
  "language_info": {
   "codemirror_mode": {
    "name": "ipython",
    "version": 3
   },
   "file_extension": ".py",
   "mimetype": "text/x-python",
   "name": "python",
   "nbconvert_exporter": "python",
   "pygments_lexer": "ipython3",
   "version": "3.6.4"
  }
 },
 "nbformat": 4,
 "nbformat_minor": 2
}
