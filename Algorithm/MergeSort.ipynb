{
 "cells": [
  {
   "cell_type": "code",
   "execution_count": 17,
   "metadata": {},
   "outputs": [],
   "source": [
    "#MergeSort\n",
    "#원리 : [3,4,5,1] -> n/2로 나눈 다음 1개로 남을때까지 재귀적으로 호출(divide) -> 2개씩 요소를 반복하여 Merge(conquer)\n",
    "def MergeSort(list):\n",
    "    \n",
    "    if len(list) <= 1:\n",
    "        return list\n",
    "    mid = len(list) // 2\n",
    "    \n",
    "    leftlist = list[:mid]\n",
    "    rightlist = list[mid:]\n",
    "    \n",
    "    #분할 데이터\n",
    "    #print('leftList : {}, rightList : {}, mid : {}'.format(leftList,rightList,mid))\n",
    "    \n",
    "    leftvalue = MergeSort(leftlist)\n",
    "    rigtvalue = MergeSort(rightlist)\n",
    "    \n",
    "    #병합 대상 데이터\n",
    "    #print('leftValue : {}, rightValue : {}, mid : {}'.format(leftValue,rightValue,mid))\n",
    "    \n",
    "    return MergeList(leftvalue, rigtvalue)\n",
    "    \n",
    "def MergeList(left, right):\n",
    "    result = []    \n",
    "    while len(left) > 0 or len(right) > 0 :\n",
    "        if len(left) and len(right) > 0:\n",
    "            if left[0] <= right[0]:\n",
    "                result.append(left[0])\n",
    "                left = left[1:]\n",
    "            else:\n",
    "                result.append(right[0])\n",
    "                right = right[1:]\n",
    "        elif len(left) > 0:\n",
    "            result.append(left[0])\n",
    "            left = left[1:]\n",
    "        elif len(right) > 0:\n",
    "            result.append(right[0])\n",
    "            right = right[1:]\n",
    "    return result        "
   ]
  },
  {
   "cell_type": "code",
   "execution_count": 18,
   "metadata": {},
   "outputs": [
    {
     "name": "stdout",
     "output_type": "stream",
     "text": [
      "[3, 7, 8, 10, 10, 13]\n"
     ]
    }
   ],
   "source": [
    "li = [10,13,3,7,8,10]\n",
    "print(MergeSort(li))"
   ]
  },
  {
   "cell_type": "code",
   "execution_count": null,
   "metadata": {},
   "outputs": [],
   "source": []
  }
 ],
 "metadata": {
  "kernelspec": {
   "display_name": "Python 3",
   "language": "python",
   "name": "python3"
  },
  "language_info": {
   "codemirror_mode": {
    "name": "ipython",
    "version": 3
   },
   "file_extension": ".py",
   "mimetype": "text/x-python",
   "name": "python",
   "nbconvert_exporter": "python",
   "pygments_lexer": "ipython3",
   "version": "3.6.4"
  }
 },
 "nbformat": 4,
 "nbformat_minor": 2
}
