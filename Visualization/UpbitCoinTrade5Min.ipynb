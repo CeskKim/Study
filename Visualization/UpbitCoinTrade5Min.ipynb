{
  "nbformat": 4,
  "nbformat_minor": 0,
  "metadata": {
    "colab": {
      "name": "UpbitCoinTrade5Min.ipynb",
      "private_outputs": true,
      "provenance": [],
      "collapsed_sections": []
    },
    "kernelspec": {
      "name": "python3",
      "display_name": "Python 3"
    }
  },
  "cells": [
    {
      "cell_type": "code",
      "metadata": {
        "id": "WLxhpvy_VlCA"
      },
      "source": [
        "!pip install upbitpy"
      ],
      "execution_count": null,
      "outputs": []
    },
    {
      "cell_type": "code",
      "metadata": {
        "id": "9jPsL5zVVxAG"
      },
      "source": [
        "from upbitpy import Upbitpy\r\n",
        "import datetime\r\n",
        "import logging\r\n",
        "import time\r\n",
        "\r\n",
        "INTERVAL_MIN = 5\r\n",
        "\r\n",
        "def Wait(min):\r\n",
        "    Now = datetime.datetime.now()\r\n",
        "    Second = 60 - Now.second\r\n",
        "    Second += 60 * (min - (Now.minute % min + 1))\r\n",
        "    time.sleep(Second)\r\n"
      ],
      "execution_count": null,
      "outputs": []
    },
    {
      "cell_type": "code",
      "metadata": {
        "id": "5iYcajx-W-Nf"
      },
      "source": [
        "# 요청 회수 제한 방지\r\n",
        "def CheckTimeCandle(Upbit):\r\n",
        "    RemainCandles =Upbit.get_remaining_req()\r\n",
        "    if (RemainCandles is None or  'candles' not in RemainCandles.keys()):\r\n",
        "        return\r\n",
        "    if int(RemainCandles['candles']['sec']) == 0:\r\n",
        "        logging.debug('>>> sleep 1 seconds')\r\n",
        "        time.sleep(1)"
      ],
      "execution_count": null,
      "outputs": []
    },
    {
      "cell_type": "code",
      "metadata": {
        "id": "7f6EkqJMYuxS"
      },
      "source": [
        "# 메인 기능\r\n",
        "def main():\r\n",
        "    Upbit = Upbitpy()\r\n",
        "\r\n",
        "    # 원화 가져오기\r\n",
        "    Markets = Upbit.get_market_all()\r\n",
        "    KrwMarkets = [M['market'] for M in Markets if M['market'].startswith('KRW')]\r\n",
        "\r\n",
        "    # 7일 거래량\r\n",
        "    for M in KrwMarkets:\r\n",
        "        Candles7d[M] = Upbit.get_weeks_candles(M, count=1)[0]\r\n",
        "        CheckTimeCandle(Upbit)\r\n",
        "    while True:\r\n",
        "        logging.info('평균 거래량 대비 {}분 거래량 비율========================'.format(INTERVAL_MIN))\r\n",
        "        for M in KrwMarkets:\r\n",
        "            Vol = Upbit.get_minutes_candles(1, M, count=1)[0]['candle_acc_trade_volume']\r\n",
        "            Vol7d =  Candles7d[M]['candle_acc_trade_volume']\r\n",
        "            Vol7dAvg = (((Vol7d/7.0)/24.0)/60.0)*INTERVAL_MIN\r\n",
        "            VolRatio = format((Vol/Vol7dAvg)*100.0, '.2f')\r\n",
        "            logging.info('[{}] {}% (거래량:{}, 평균:{})'.format(\r\n",
        "                        M, VolRatio, format(Vol, '.2f'), format(Vol7dAvg, '.2f')))\r\n",
        "        Wait(INTERVAL_MIN)\r\n",
        "\r\n",
        "if __name__ =='__main__':\r\n",
        "    logging.basicConfig(level=logging.INFO)\r\n",
        "    main()"
      ],
      "execution_count": null,
      "outputs": []
    },
    {
      "cell_type": "code",
      "metadata": {
        "id": "CJReKhf-ZJ9X"
      },
      "source": [
        ""
      ],
      "execution_count": null,
      "outputs": []
    }
  ]
}